{
 "cells": [
  {
   "cell_type": "code",
   "execution_count": null,
   "metadata": {},
   "outputs": [],
   "source": [
    "import pymap3d as pm\n",
    "\n",
    "lat0, lon0, alt0 = 4029.25745, 11146.61129, 1165.2\n",
    "lat, lon, alt = 4028.25746, 11147.61125, 1165.1\n",
    "e, n, u = pm.geodetic2enu(lat, lon, alt, lat0, lon0, alt0)\n",
    "print(e, n, u)"
   ]
  }
 ],
 "metadata": {
  "kernelspec": {
   "display_name": "Python 3",
   "language": "python",
   "name": "python3"
  },
  "language_info": {
   "codemirror_mode": {
    "name": "ipython",
    "version": 3
   },
   "file_extension": ".py",
   "mimetype": "text/x-python",
   "name": "python",
   "nbconvert_exporter": "python",
   "pygments_lexer": "ipython3",
   "version": "3.8.5"
  }
 },
 "nbformat": 4,
 "nbformat_minor": 4
}
